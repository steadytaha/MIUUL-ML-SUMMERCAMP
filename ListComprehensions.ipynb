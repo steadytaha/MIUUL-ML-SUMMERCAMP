{
 "cells": [
  {
   "cell_type": "code",
   "execution_count": 2,
   "metadata": {},
   "outputs": [
    {
     "data": {
      "text/plain": [
       "Index(['total', 'speeding', 'alcohol', 'not_distracted', 'no_previous',\n",
       "       'ins_premium', 'ins_losses', 'abbrev'],\n",
       "      dtype='object')"
      ]
     },
     "execution_count": 2,
     "metadata": {},
     "output_type": "execute_result"
    }
   ],
   "source": [
    "import seaborn as sns\n",
    "df = sns.load_dataset('car_crashes')\n",
    "df.columns"
   ]
  },
  {
   "cell_type": "markdown",
   "metadata": {},
   "source": [
    "**Task 1:** Convert the names of numeric variables in the car_crashes data to uppercase and add the prefix \"NUM\" using the list comprehension structure."
   ]
  },
  {
   "cell_type": "code",
   "execution_count": 3,
   "metadata": {},
   "outputs": [
    {
     "name": "stdout",
     "output_type": "stream",
     "text": [
      "<class 'pandas.core.frame.DataFrame'>\n",
      "RangeIndex: 51 entries, 0 to 50\n",
      "Data columns (total 8 columns):\n",
      " #   Column          Non-Null Count  Dtype  \n",
      "---  ------          --------------  -----  \n",
      " 0   total           51 non-null     float64\n",
      " 1   speeding        51 non-null     float64\n",
      " 2   alcohol         51 non-null     float64\n",
      " 3   not_distracted  51 non-null     float64\n",
      " 4   no_previous     51 non-null     float64\n",
      " 5   ins_premium     51 non-null     float64\n",
      " 6   ins_losses      51 non-null     float64\n",
      " 7   abbrev          51 non-null     object \n",
      "dtypes: float64(7), object(1)\n",
      "memory usage: 3.3+ KB\n"
     ]
    }
   ],
   "source": [
    "df.info()\n",
    "\n",
    "# Expected result:\n",
    "\"\"\"\n",
    "[\"NUM_TOTAL\",\n",
    " \"NUM_SPEEDING\",\n",
    " \"NUM_ALCOHOL\",\n",
    " \"NUM_NOT_DISTRACTED\",\n",
    " \"NUM_NO_PREVIOUS\",\n",
    " \"NUM_INS_PREMIUM\",\n",
    " \"NUM_INS_LOSSES\",\n",
    " \"ABBREV\",]\n",
    "\"\"\""
   ]
  },
  {
   "cell_type": "code",
   "execution_count": 9,
   "metadata": {},
   "outputs": [
    {
     "name": "stdout",
     "output_type": "stream",
     "text": [
      "['NUM_TOTAL', 'NUM_SPEEDING', 'NUM_ALCOHOL', 'NUM_NOT_DISTRACTED', 'NUM_NO_PREVIOUS', 'NUM_INS_PREMIUM', 'NUM_INS_LOSSES', 'ABBREV']\n"
     ]
    }
   ],
   "source": [
    "columns = [\"NUM_\" + col.upper() if df[col].dtype != \"O\" else col.upper() for col in df.columns]\n",
    "print(columns)"
   ]
  },
  {
   "cell_type": "markdown",
   "metadata": {},
   "source": [
    "**Task 2:** Using the list comprehension structure, append \"FLAG\" to the names of variables in the car_crashes data that do not contain the word \"no\" in their names."
   ]
  },
  {
   "cell_type": "code",
   "execution_count": 12,
   "metadata": {},
   "outputs": [
    {
     "name": "stdout",
     "output_type": "stream",
     "text": [
      "['TOTAL_FLAG', 'SPEEDING_FLAG', 'ALCOHOL_FLAG', 'NOT_DISTRACTED', 'NO_PREVIOUS', 'INS_PREMIUM_FLAG', 'INS_LOSSES_FLAG', 'ABBREV_FLAG']\n"
     ]
    }
   ],
   "source": [
    "# Expected result:\n",
    "\"\"\"\n",
    "[\"TOTAL_FLAG\",\n",
    " \"SPEEDING_FLAG\",\n",
    " \"ALCOHOL_FLAG\",\n",
    " \"NOT_DISTRACTED\",\n",
    " \"NO_PREVIOUS\",\n",
    " \"INS_PREMIUM_FLAG\",\n",
    " \"INS_LOSSES_FLAG\",\n",
    " \"ABBREV_FLAG\",]\n",
    " \"\"\"\n",
    "\n",
    "columns2 = [col.upper() + \"_FLAG\" if \"no\" not in col else col.upper() for col in df.columns]\n",
    "print(columns2)"
   ]
  },
  {
   "cell_type": "markdown",
   "metadata": {},
   "source": [
    "**Task 3:** Using the list comprehension structure, select the variable names that are different from the ones given below and create a new dataframe."
   ]
  },
  {
   "cell_type": "code",
   "execution_count": 18,
   "metadata": {},
   "outputs": [
    {
     "data": {
      "text/html": [
       "<div>\n",
       "<style scoped>\n",
       "    .dataframe tbody tr th:only-of-type {\n",
       "        vertical-align: middle;\n",
       "    }\n",
       "\n",
       "    .dataframe tbody tr th {\n",
       "        vertical-align: top;\n",
       "    }\n",
       "\n",
       "    .dataframe thead th {\n",
       "        text-align: right;\n",
       "    }\n",
       "</style>\n",
       "<table border=\"1\" class=\"dataframe\">\n",
       "  <thead>\n",
       "    <tr style=\"text-align: right;\">\n",
       "      <th></th>\n",
       "      <th>total</th>\n",
       "      <th>speeding</th>\n",
       "      <th>alcohol</th>\n",
       "      <th>not_distracted</th>\n",
       "      <th>ins_premium</th>\n",
       "      <th>ins_losses</th>\n",
       "    </tr>\n",
       "  </thead>\n",
       "  <tbody>\n",
       "    <tr>\n",
       "      <th>0</th>\n",
       "      <td>18.8</td>\n",
       "      <td>7.332</td>\n",
       "      <td>5.640</td>\n",
       "      <td>18.048</td>\n",
       "      <td>784.55</td>\n",
       "      <td>145.08</td>\n",
       "    </tr>\n",
       "    <tr>\n",
       "      <th>1</th>\n",
       "      <td>18.1</td>\n",
       "      <td>7.421</td>\n",
       "      <td>4.525</td>\n",
       "      <td>16.290</td>\n",
       "      <td>1053.48</td>\n",
       "      <td>133.93</td>\n",
       "    </tr>\n",
       "    <tr>\n",
       "      <th>2</th>\n",
       "      <td>18.6</td>\n",
       "      <td>6.510</td>\n",
       "      <td>5.208</td>\n",
       "      <td>15.624</td>\n",
       "      <td>899.47</td>\n",
       "      <td>110.35</td>\n",
       "    </tr>\n",
       "    <tr>\n",
       "      <th>3</th>\n",
       "      <td>22.4</td>\n",
       "      <td>4.032</td>\n",
       "      <td>5.824</td>\n",
       "      <td>21.056</td>\n",
       "      <td>827.34</td>\n",
       "      <td>142.39</td>\n",
       "    </tr>\n",
       "    <tr>\n",
       "      <th>4</th>\n",
       "      <td>12.0</td>\n",
       "      <td>4.200</td>\n",
       "      <td>3.360</td>\n",
       "      <td>10.920</td>\n",
       "      <td>878.41</td>\n",
       "      <td>165.63</td>\n",
       "    </tr>\n",
       "  </tbody>\n",
       "</table>\n",
       "</div>"
      ],
      "text/plain": [
       "   total  speeding  alcohol  not_distracted  ins_premium  ins_losses\n",
       "0   18.8     7.332    5.640          18.048       784.55      145.08\n",
       "1   18.1     7.421    4.525          16.290      1053.48      133.93\n",
       "2   18.6     6.510    5.208          15.624       899.47      110.35\n",
       "3   22.4     4.032    5.824          21.056       827.34      142.39\n",
       "4   12.0     4.200    3.360          10.920       878.41      165.63"
      ]
     },
     "execution_count": 18,
     "metadata": {},
     "output_type": "execute_result"
    }
   ],
   "source": [
    "og_list = [\"abbrev\", \"no_previous\"]\n",
    "\n",
    "new_cols = [col for col in df.columns if col not in og_list]\n",
    "df[new_cols].head()"
   ]
  }
 ],
 "metadata": {
  "kernelspec": {
   "display_name": "Python 3",
   "language": "python",
   "name": "python3"
  },
  "language_info": {
   "codemirror_mode": {
    "name": "ipython",
    "version": 3
   },
   "file_extension": ".py",
   "mimetype": "text/x-python",
   "name": "python",
   "nbconvert_exporter": "python",
   "pygments_lexer": "ipython3",
   "version": "3.11.3"
  },
  "orig_nbformat": 4
 },
 "nbformat": 4,
 "nbformat_minor": 2
}
