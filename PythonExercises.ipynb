{
 "cells": [
  {
   "cell_type": "markdown",
   "metadata": {},
   "source": [
    "\n",
    "**Task 1:** Examine the data structures of the given values."
   ]
  },
  {
   "cell_type": "code",
   "execution_count": 3,
   "metadata": {},
   "outputs": [],
   "source": [
    "x = 8\n",
    "y = 3.2\n",
    "z = 8j + 18\n",
    "a = \"Hello World\"\n",
    "b = True\n",
    "c = 23 < 22\n",
    "l = [1, 2, 3, 4]\n",
    "d = {\"Name\": \"Jake\",\n",
    "     \"Age\": 27,\n",
    "     \"Address\": \"Downtown\"}\n",
    "t = (\"Machine Learning\", \"Data Science\")\n",
    "s = {\"Python\", \"Machine Learning\", \"Data Science\"}"
   ]
  },
  {
   "cell_type": "code",
   "execution_count": 4,
   "metadata": {},
   "outputs": [
    {
     "name": "stdout",
     "output_type": "stream",
     "text": [
      " --> 8 is of type <class 'int'>\n",
      " --> 3.2 is of type <class 'float'>\n",
      " --> (18+8j) is of type <class 'complex'>\n",
      " --> Hello World is of type <class 'str'>\n",
      " --> True is of type <class 'bool'>\n",
      " --> False is of type <class 'bool'>\n",
      " --> [1, 2, 3, 4] is of type <class 'list'>\n",
      " --> {'Name': 'Jake', 'Age': 27, 'Address': 'Downtown'} is of type <class 'dict'>\n",
      " --> ('Machine Learning', 'Data Science') is of type <class 'tuple'>\n",
      " --> {'Data Science', 'Machine Learning', 'Python'} is of type <class 'set'>\n"
     ]
    }
   ],
   "source": [
    "type(x)\n",
    "print(f\" --> {x} is of type {type(x)}\")\n",
    "\n",
    "type(y)\n",
    "print(f\" --> {y} is of type {type(y)}\")\n",
    "\n",
    "type(z)\n",
    "print(f\" --> {z} is of type {type(z)}\")\n",
    "\n",
    "type(a)\n",
    "print(f\" --> {a} is of type {type(a)}\")\n",
    "\n",
    "type(b)\n",
    "print(f\" --> {b} is of type {type(b)}\")\n",
    "\n",
    "type(c)\n",
    "print(f\" --> {c} is of type {type(c)}\")\n",
    "\n",
    "type(l)\n",
    "print(f\" --> {l} is of type {type(l)}\")\n",
    "\n",
    "type(d)\n",
    "print(f\" --> {d} is of type {type(d)}\")\n",
    "\n",
    "type(t)\n",
    "print(f\" --> {t} is of type {type(t)}\")\n",
    "\n",
    "type(s)\n",
    "print(f\" --> {s} is of type {type(s)}\")"
   ]
  },
  {
   "cell_type": "markdown",
   "metadata": {},
   "source": [
    "**Task 2:** Convert all the letters in the given string expression to uppercase. Replace commas and periods with spaces, separate word by word."
   ]
  },
  {
   "cell_type": "code",
   "execution_count": 5,
   "metadata": {},
   "outputs": [],
   "source": [
    "text = \"The goal is to turn data into information, and information into insight.\"\n",
    "\n",
    "# Expected result\n",
    "# ['THE', 'GOAL', 'IS', 'TO', 'TURN', 'DATA', 'INTO', 'INFORMATION', 'AND', 'INFORMATION', 'INTO', 'INSIGHT']"
   ]
  },
  {
   "cell_type": "code",
   "execution_count": 25,
   "metadata": {},
   "outputs": [
    {
     "name": "stdout",
     "output_type": "stream",
     "text": [
      " --> ['THE', 'GOAL', 'IS', 'TO', 'TURN', 'DATA', 'INTO', 'INFORMATION', 'AND', 'INFORMATION', 'INTO', 'INSIGHT']\n"
     ]
    }
   ],
   "source": [
    "result = []\n",
    "disallowed_characters = [\",\", \".\"]\n",
    "\n",
    "for word in text.split():\n",
    "    if disallowed_characters[0] or disallowed_characters[1] in word:\n",
    "        word = word.replace(disallowed_characters[0], \"\").replace(disallowed_characters[1], \"\")\n",
    "        result.append(word.upper())\n",
    "    else:\n",
    "        result.append(word.upper())\n",
    "\n",
    "print(f\" --> {result}\")"
   ]
  },
  {
   "cell_type": "markdown",
   "metadata": {},
   "source": [
    "**Task 3:** Apply the following steps to the given list."
   ]
  },
  {
   "cell_type": "code",
   "execution_count": 34,
   "metadata": {},
   "outputs": [
    {
     "name": "stdout",
     "output_type": "stream",
     "text": [
      " --> 11\n",
      " --> D, E\n",
      " --> ['D', 'A', 'T', 'A']\n",
      " --> ['D', 'A', 'T', 'A', 'S', 'C', 'I', 'E', 'C', 'E']\n",
      " --> ['D', 'A', 'T', 'A', 'S', 'C', 'I', 'E', 'C', 'E', 'Q']\n",
      " --> ['D', 'A', 'T', 'A', 'S', 'C', 'I', 'E', 'N', 'C', 'E', 'Q']\n"
     ]
    }
   ],
   "source": [
    "lst = [\"D\", \"A\", \"T\", \"A\", \"S\", \"C\", \"I\", \"E\", \"N\", \"C\", \"E\"]\n",
    "\n",
    "# Step 1: Examine the number of elements in the given list.\n",
    "print(f\" --> {len(lst)}\")\n",
    "\n",
    "# Step 2: Retrieve the elements at the zeroth and tenth indexes.\n",
    "print(f\" --> {lst[0]}, {lst[10]}\")\n",
    "\n",
    "# Step 3: Create a list [\"D\", \"A\", \"T\", \"A\"] from the given list.\n",
    "print(f\" --> {lst[0:4]}\")\n",
    "\n",
    "# Step 4: Delete the element at the eighth index.\n",
    "lst.pop(8)\n",
    "print(f\" --> {lst}\")\n",
    "\n",
    "# Step 5: Add a new element.\n",
    "lst.append(\"Q\")\n",
    "print(f\" --> {lst}\")\n",
    "\n",
    "# Step 6: Add the element \"N\" again at the eighth index.\n",
    "lst.insert(8, \"N\")\n",
    "print(f\" --> {lst}\")"
   ]
  },
  {
   "cell_type": "markdown",
   "metadata": {},
   "source": [
    "**Task 4:** Apply the following steps to the given dictionary structure."
   ]
  },
  {
   "cell_type": "code",
   "execution_count": 4,
   "metadata": {},
   "outputs": [],
   "source": [
    "dict = {'Christian': ['America', 18],\n",
    "        'Daisy': ['England', 12],\n",
    "        'Antonio': ['Spain', 22],\n",
    "        'Dante': ['Italy', 25]}"
   ]
  },
  {
   "cell_type": "code",
   "execution_count": 5,
   "metadata": {},
   "outputs": [
    {
     "name": "stdout",
     "output_type": "stream",
     "text": [
      " --> dict_keys(['Christian', 'Daisy', 'Antonio', 'Dante'])\n",
      " --> dict_values([['America', 18], ['England', 12], ['Spain', 22], ['Italy', 25]])\n",
      " --> {'Christian': ['America', 18], 'Daisy': ['England', 13], 'Antonio': ['Spain', 22], 'Dante': ['Italy', 25], 'Ahmet': ['Turkey', 24]}\n",
      " --> {'Christian': ['America', 18], 'Daisy': ['England', 13], 'Dante': ['Italy', 25], 'Ahmet': ['Turkey', 24]}\n"
     ]
    }
   ],
   "source": [
    "# Step 1: Access the key values.\n",
    "print(f\" --> {dict.keys()}\")\n",
    "\n",
    "# Step 2: Access the values.\n",
    "print(f\" --> {dict.values()}\")\n",
    "\n",
    "# Step 3: Update the value of the key \"Daisy\" to 13 instead of 12.\n",
    "dict[\"Daisy\"][1] = 13\n",
    "\n",
    "# Step 4: Add a new entry with the key \"Ahmet\" and the value [\"Turkey\", 24].\n",
    "dict[\"Ahmet\"] = [\"Turkey\", 24]\n",
    "print(f\" --> {dict}\")\n",
    "\n",
    "# Step 5: Remove \"Antonio\" from the dictionary.\n",
    "dict.pop(\"Antonio\")\n",
    "print(f\" --> {dict}\")\n"
   ]
  },
  {
   "cell_type": "markdown",
   "metadata": {},
   "source": [
    "**Task 5:** Write a function that takes a list as an argument, separates the odd and even numbers in the list into separate lists, and returns these lists."
   ]
  },
  {
   "cell_type": "code",
   "execution_count": 6,
   "metadata": {},
   "outputs": [
    {
     "name": "stdout",
     "output_type": "stream",
     "text": [
      " --> ([2, 18, 22], [13, 93])\n"
     ]
    }
   ],
   "source": [
    "l = [2, 13, 18, 93, 22]\n",
    "\n",
    "def func(lst):\n",
    "    even_list = []\n",
    "    odd_list = []\n",
    "    for i in lst:\n",
    "        if i % 2 == 0:\n",
    "            even_list.append(i)\n",
    "        else:\n",
    "            odd_list.append(i)\n",
    "    return even_list, odd_list\n",
    "\n",
    "print(f\" --> {func(l)}\")"
   ]
  },
  {
   "cell_type": "markdown",
   "metadata": {},
   "source": [
    "**Task 6:** The names of the students who ranked in the top positions in the engineering and medical faculties are listed below. The first three students represent the ranking of the engineering faculty, while the last three students represent the ranking of the medical faculty. Using enumerate, print the student ranks for each faculty."
   ]
  },
  {
   "cell_type": "code",
   "execution_count": 9,
   "metadata": {},
   "outputs": [
    {
     "data": {
      "text/plain": [
       "'Mühendislik Fakültesi 1. Öğrenci: Ali\\nMühendislik Fakültesi 2. Öğrenci: Veli\\nMühendislik Fakültesi 3. Öğrenci: Ayşe\\nTıp Fakültesi 1. Öğrenci: Talat\\nTıp Fakültesi 2. Öğrenci: Zeynep\\nTıp Fakültesi 3. Öğrenci: Ece'"
      ]
     },
     "execution_count": 9,
     "metadata": {},
     "output_type": "execute_result"
    }
   ],
   "source": [
    "students = [\"Ali\", \"Veli\", \"Ayşe\", \"Talat\", \"Zeynep\", \"Ece\"]\n",
    " \n",
    "\"\"\"\n",
    "Expected result:\n",
    "\n",
    "Mühendislik Fakültesi 1. Öğrenci: Ali\n",
    "Mühendislik Fakültesi 2. Öğrenci: Veli\n",
    "Mühendislik Fakültesi 3. Öğrenci: Ayşe\n",
    "Tıp Fakültesi 1. Öğrenci: Talat\n",
    "Tıp Fakültesi 2. Öğrenci: Zeynep\n",
    "Tıp Fakültesi 3. Öğrenci: Ece\n",
    "\"\"\""
   ]
  },
  {
   "cell_type": "code",
   "execution_count": 10,
   "metadata": {},
   "outputs": [
    {
     "name": "stdout",
     "output_type": "stream",
     "text": [
      "Mühendislik Fakültesi 1. Öğrenci: Ali\n",
      "Mühendislik Fakültesi 2. Öğrenci: Veli\n",
      "Mühendislik Fakültesi 3. Öğrenci: Ayşe\n",
      "Tıp Fakültesi 1. Öğrenci: Talat\n",
      "Tıp Fakültesi 2. Öğrenci: Zeynep\n",
      "Tıp Fakültesi 3. Öğrenci: Ece\n"
     ]
    }
   ],
   "source": [
    "for index, student in enumerate(students):\n",
    "    if index < 3:\n",
    "        print(f\"Mühendislik Fakültesi {index + 1}. Öğrenci: {student}\")\n",
    "    else:\n",
    "        print(f\"Tıp Fakültesi {index - 2}. Öğrenci: {student}\")"
   ]
  },
  {
   "cell_type": "markdown",
   "metadata": {},
   "source": [
    "**Task 7:** Below are 3 lists containing the code, credits, and quota information of a course respectively. Using zip, print the course information."
   ]
  },
  {
   "cell_type": "code",
   "execution_count": 1,
   "metadata": {},
   "outputs": [
    {
     "data": {
      "text/plain": [
       "'\\nExpected result:\\n\\nKredisi 3 olan CMP1005 kodlu dersin kontenjanı 30 kişidir.\\nKredisi 4 olan PSY1001 kodlu dersin kontenjanı 75 kişidir.\\nKredisi 2 olan HUK1005 kodlu dersin kontenjanı 150 kişidir.\\nKredisi 4 olan SEN2204 kodlu dersin kontenjanı 25 kişidir.\\n'"
      ]
     },
     "execution_count": 1,
     "metadata": {},
     "output_type": "execute_result"
    }
   ],
   "source": [
    "lesson_codes = [\"CMP1005\", \"PSY1001\", \"HUK1005\", \"SEN2204\"]\n",
    "credits = [3, 4, 2, 4]\n",
    "quotas = [30, 75, 150, 25]\n",
    "\n",
    "\"\"\"\n",
    "Expected result:\n",
    "\n",
    "Kredisi 3 olan CMP1005 kodlu dersin kontenjanı 30 kişidir.\n",
    "Kredisi 4 olan PSY1001 kodlu dersin kontenjanı 75 kişidir.\n",
    "Kredisi 2 olan HUK1005 kodlu dersin kontenjanı 150 kişidir.\n",
    "Kredisi 4 olan SEN2204 kodlu dersin kontenjanı 25 kişidir.\n",
    "\"\"\""
   ]
  },
  {
   "cell_type": "code",
   "execution_count": 4,
   "metadata": {},
   "outputs": [
    {
     "name": "stdout",
     "output_type": "stream",
     "text": [
      "<zip object at 0x0000024D3B245740>\n",
      "Kredisi 3 olan CMP1005 kodlu dersin kontenjanı 30 kişidir.\n",
      "Kredisi 4 olan PSY1001 kodlu dersin kontenjanı 75 kişidir.\n",
      "Kredisi 2 olan HUK1005 kodlu dersin kontenjanı 150 kişidir.\n",
      "Kredisi 4 olan SEN2204 kodlu dersin kontenjanı 25 kişidir.\n"
     ]
    }
   ],
   "source": [
    "lessons = zip(lesson_codes, credits, quotas)\n",
    "\n",
    "for index, lesson in enumerate(lessons):\n",
    "    print(f\"Kredisi {credits[index]} olan {lesson_codes[index]} kodlu dersin kontenjanı {quotas[index]} kişidir.\")"
   ]
  },
  {
   "cell_type": "markdown",
   "metadata": {},
   "source": [
    "**Task 8:** Below, there are 2 sets provided. You are asked to define a function that will check if the first set includes the second set. If it does, the function should return the common elements; if it doesn't, the function should return the elements in the second set that are not present in the first set."
   ]
  },
  {
   "cell_type": "code",
   "execution_count": 1,
   "metadata": {},
   "outputs": [],
   "source": [
    "kume1 = set([\"data\", \"python\"])\n",
    "kume2 = set([\"data\", \"function\", \"qcut\", \"lambda\", \"python\", \"miuul\"])\n",
    "\n",
    "# Excepted result:\n",
    "# {'function', 'qcut', 'lambda', 'miuul'}"
   ]
  },
  {
   "cell_type": "code",
   "execution_count": 2,
   "metadata": {},
   "outputs": [
    {
     "name": "stdout",
     "output_type": "stream",
     "text": [
      " --> {'qcut', 'function', 'lambda', 'miuul'}\n"
     ]
    }
   ],
   "source": [
    "def kumeler(kume1, kume2):\n",
    "    bool = kume1.issuperset(kume2)\n",
    "    if bool == True:\n",
    "        return kume1.intersection(kume2)\n",
    "    else:\n",
    "        return kume2.difference(kume1)\n",
    "    \n",
    "print(f\" --> {kumeler(kume1, kume2)}\")"
   ]
  }
 ],
 "metadata": {
  "kernelspec": {
   "display_name": "Python 3",
   "language": "python",
   "name": "python3"
  },
  "language_info": {
   "codemirror_mode": {
    "name": "ipython",
    "version": 3
   },
   "file_extension": ".py",
   "mimetype": "text/x-python",
   "name": "python",
   "nbconvert_exporter": "python",
   "pygments_lexer": "ipython3",
   "version": "3.11.3"
  },
  "orig_nbformat": 4
 },
 "nbformat": 4,
 "nbformat_minor": 2
}
